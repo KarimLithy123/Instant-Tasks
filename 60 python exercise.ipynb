{
 "cells": [
  {
   "cell_type": "markdown",
   "id": "759d04ba",
   "metadata": {},
   "source": [
    "**1-Write a Python program to calculate the length of a string using 2 ways"
   ]
  },
  {
   "cell_type": "code",
   "execution_count": 4,
   "id": "e434c950",
   "metadata": {},
   "outputs": [
    {
     "name": "stdout",
     "output_type": "stream",
     "text": [
      "5\n",
      "5\n"
     ]
    }
   ],
   "source": [
    "msg=\"Karim\"\n",
    "len(msg)\n",
    "count=0\n",
    "for i in msg:\n",
    "    count+=1\n",
    "print(count)\n",
    "print(len(msg))"
   ]
  },
  {
   "cell_type": "markdown",
   "id": "d7cc9da7",
   "metadata": {},
   "source": [
    "**2-Write a Python program to get a string made of the first 2 and last 2 characters of a given string. If the string length is less than 2, return the empty string instead (\"##Sample String : 'w3resource'\n",
    "Expected Result : 'w3ce'\n",
    "##Sample String : 'w3'\n",
    "Expected Result : 'w3w3'\n",
    "##Sample String : ' w'\n",
    "Expected Result : Empty String)"
   ]
  },
  {
   "cell_type": "code",
   "execution_count": 1,
   "id": "dafa9dd8",
   "metadata": {},
   "outputs": [
    {
     "name": "stdout",
     "output_type": "stream",
     "text": [
      "W3ce\n"
     ]
    }
   ],
   "source": [
    "text=\"W3resource\"\n",
    "print(text[0:2]+\"\"+ text[-2:len(text)])"
   ]
  },
  {
   "cell_type": "markdown",
   "id": "1534f956",
   "metadata": {},
   "source": [
    "**3-Write a Python program to add 'ing' at the end of a given string (length should be at least 3). If the given string already ends with 'ing', add 'ly' instead. If the string length of the given string is less than 3, leave it unchanged. (Sample String : 'abc'\n",
    "Expected Result : 'abcing')"
   ]
  },
  {
   "cell_type": "code",
   "execution_count": 29,
   "id": "7ff8cec4",
   "metadata": {},
   "outputs": [
    {
     "name": "stdout",
     "output_type": "stream",
     "text": [
      "study\n",
      "studying\n"
     ]
    }
   ],
   "source": [
    "text=input()\n",
    "\n",
    "length=len(text)\n",
    "if(length>=3):\n",
    "    if(text[-3:length]==\"ing\"):\n",
    "        text=text.replace(\"ing\",\"ly\")\n",
    "    else:\n",
    "        text=text+\"ing\"\n",
    "    print(text)\n",
    "else:\n",
    "    print(text)"
   ]
  },
  {
   "cell_type": "markdown",
   "id": "1c0a6627",
   "metadata": {},
   "source": [
    "**4-Write a Python function that takes a list of words and return the longest word and the length of the longest one\n",
    "(Longest word: Exercises\n",
    "Length of the longest word: 9)"
   ]
  },
  {
   "cell_type": "code",
   "execution_count": 36,
   "id": "397341d9",
   "metadata": {},
   "outputs": [
    {
     "name": "stdout",
     "output_type": "stream",
     "text": [
      "Ibrahimovic\n",
      "15\n"
     ]
    }
   ],
   "source": [
    "words=[\"Karim\",\"Amadeus\",\"Salma\",\"LionelMessi\",\"Andreas Iniesta\",\"Ibrahimovic\"]\n",
    "for i in range(1,6):\n",
    "    res=max(len(words[i]),len(words[i-1]))\n",
    "    if(i==5):\n",
    "        print(words[i])\n",
    "        print(res)\n",
    "    "
   ]
  },
  {
   "cell_type": "markdown",
   "id": "53a03a6a",
   "metadata": {},
   "source": [
    "**5-Write a Python program to change a given string to a newly string where the first and last chars have been exchanged using 2 ways (Sample String:abca  Expected Result:ebce)"
   ]
  },
  {
   "cell_type": "code",
   "execution_count": 1,
   "id": "fd327d2a",
   "metadata": {},
   "outputs": [
    {
     "name": "stdout",
     "output_type": "stream",
     "text": [
      "mariK\n"
     ]
    }
   ],
   "source": [
    "t1=\"Karim\"\n",
    "t2=t1[-1]+t1[1:-1]+t1[0]\n",
    "print(t2)"
   ]
  },
  {
   "cell_type": "code",
   "execution_count": 16,
   "id": "285788b4",
   "metadata": {},
   "outputs": [
    {
     "data": {
      "text/plain": [
       "'mariK'"
      ]
     },
     "execution_count": 16,
     "metadata": {},
     "output_type": "execute_result"
    }
   ],
   "source": [
    "t3=list(t1)\n",
    "t3[0],t3[-1]=t3[-1],t3[0]\n",
    "text=\"\".join(t3)\n",
    "text"
   ]
  },
  {
   "cell_type": "markdown",
   "id": "25f89808",
   "metadata": {},
   "source": [
    "**6-Write a Python program to remove characters that have odd index values in a given string (Sample String:abca Expected Result:ac)"
   ]
  },
  {
   "cell_type": "code",
   "execution_count": 61,
   "id": "05959bd7",
   "metadata": {},
   "outputs": [
    {
     "name": "stdout",
     "output_type": "stream",
     "text": [
      "ac\n"
     ]
    }
   ],
   "source": [
    "msg=\"abca\"\n",
    "leng=len(msg)\n",
    "res=\"\"\n",
    "for i in range(0,leng):\n",
    "    if(i%2==0):\n",
    "        res=res+msg[i]\n",
    "        \n",
    "        \n",
    "    \n",
    "print(res)"
   ]
  },
  {
   "cell_type": "markdown",
   "id": "eb16e898",
   "metadata": {},
   "source": [
    "**7-Write a Python program to count the occurrences of each word in a given sentence (Sample String:amr and ahmed are frindes but amr is the tallest Expected Result:2)"
   ]
  },
  {
   "cell_type": "code",
   "execution_count": 86,
   "id": "01ce6cf5",
   "metadata": {},
   "outputs": [
    {
     "name": "stdout",
     "output_type": "stream",
     "text": [
      "{'amr': 2, 'and': 1, 'ahmed': 1, 'are': 1, 'friends': 1, 'but': 1, 'is': 1, 'the': 1, 'tallest': 1}\n"
     ]
    }
   ],
   "source": [
    "import collections\n",
    "from collections import Counter \n",
    "msg=\"amr and ahmed are friends but amr is the tallest\"\n",
    "msg=msg.split()\n",
    "count=dict()\n",
    "\n",
    "for i in msg:\n",
    "    if(i in count):\n",
    "        count[i]+=1\n",
    "    else:\n",
    "        count[i]=1\n",
    "print(count)\n"
   ]
  },
  {
   "cell_type": "markdown",
   "id": "4e8125f1",
   "metadata": {},
   "source": [
    "**8-Write a Python script that takes input from the user and displays that input back in upper and lower cases"
   ]
  },
  {
   "cell_type": "code",
   "execution_count": 6,
   "id": "66c8f778",
   "metadata": {},
   "outputs": [
    {
     "name": "stdout",
     "output_type": "stream",
     "text": [
      "karim\n",
      "KARIM\n",
      "karim\n"
     ]
    }
   ],
   "source": [
    "msg=input()\n",
    "print(msg.upper())\n",
    "print(msg.lower())"
   ]
  },
  {
   "cell_type": "markdown",
   "id": "fcd68aa1",
   "metadata": {},
   "source": [
    "**9-Write a Python function to reverse a string if its length is a multiple of 4"
   ]
  },
  {
   "cell_type": "code",
   "execution_count": 12,
   "id": "0671a931",
   "metadata": {},
   "outputs": [
    {
     "name": "stdout",
     "output_type": "stream",
     "text": [
      "mike\n",
      "eikm\n"
     ]
    }
   ],
   "source": [
    "msg=input()\n",
    "if(len(msg)%4==0):\n",
    "    print(msg[-1]+msg[1:-1]+msg[0])\n",
    "else:\n",
    "    print(msg)"
   ]
  },
  {
   "cell_type": "markdown",
   "id": "b577c68d",
   "metadata": {},
   "source": [
    "**10- Write a Python program to remove a newline in Python"
   ]
  },
  {
   "cell_type": "code",
   "execution_count": 24,
   "id": "e0c6525a",
   "metadata": {},
   "outputs": [
    {
     "name": "stdout",
     "output_type": "stream",
     "text": [
      "Hi\n",
      " Hru?\n",
      " Whats your name?\n",
      "\n",
      "Hi Hru? Whats your name?\n"
     ]
    }
   ],
   "source": [
    "msg=\"Hi\\n Hru?\\n Whats your name?\\n\"\n",
    "print(msg)\n",
    "x=msg.replace(\"\\n\",'')\n",
    "print(x)"
   ]
  },
  {
   "cell_type": "markdown",
   "id": "80db5ae0",
   "metadata": {},
   "source": [
    "**11-Write a Python program to check whether a string starts with specified characters"
   ]
  },
  {
   "cell_type": "code",
   "execution_count": 35,
   "id": "0cc4e03e",
   "metadata": {},
   "outputs": [
    {
     "name": "stdout",
     "output_type": "stream",
     "text": [
      "True\n"
     ]
    }
   ],
   "source": [
    "msg=\"INSTANT software school\"\n",
    "print(msg.startswith('INSTANT'))"
   ]
  },
  {
   "cell_type": "markdown",
   "id": "593a68db",
   "metadata": {},
   "source": [
    "**12- Write a Python program to add prefix text to all of the lines in a string"
   ]
  },
  {
   "cell_type": "code",
   "execution_count": 26,
   "id": "d2e46ada",
   "metadata": {},
   "outputs": [
    {
     "name": "stdout",
     "output_type": "stream",
     "text": [
      "IMTschool\n",
      "www.IMTschool.com\n"
     ]
    }
   ],
   "source": [
    "prefix='www.'\n",
    "end='.com'\n",
    "msg=input()\n",
    "print(prefix+msg+end)"
   ]
  },
  {
   "cell_type": "markdown",
   "id": "86fa1543",
   "metadata": {},
   "source": [
    "**13-Write a Python program to print the following numbers up to 2 decimal places"
   ]
  },
  {
   "cell_type": "code",
   "execution_count": 27,
   "id": "cd4a9d89",
   "metadata": {},
   "outputs": [
    {
     "name": "stdout",
     "output_type": "stream",
     "text": [
      "3.145\n",
      "3.15\n"
     ]
    }
   ],
   "source": [
    "num=float(input())\n",
    "print(round(num,2))\n"
   ]
  },
  {
   "cell_type": "markdown",
   "id": "452c0ab0",
   "metadata": {},
   "source": [
    "**14-Write a Python program to print the following numbers up to 2 decimal places with a sign"
   ]
  },
  {
   "cell_type": "code",
   "execution_count": 1,
   "id": "73e82479",
   "metadata": {},
   "outputs": [
    {
     "name": "stdout",
     "output_type": "stream",
     "text": [
      "-3.154\n",
      "-3.15\n"
     ]
    }
   ],
   "source": [
    "num=float(input())\n",
    "print(round(num,2))\n"
   ]
  },
  {
   "cell_type": "markdown",
   "id": "32b1811a",
   "metadata": {},
   "source": [
    "**15-Write a Python program to display a number with a comma separator"
   ]
  },
  {
   "cell_type": "code",
   "execution_count": 4,
   "id": "f30fc0b6",
   "metadata": {},
   "outputs": [
    {
     "name": "stdout",
     "output_type": "stream",
     "text": [
      "837,493,821\n"
     ]
    }
   ],
   "source": [
    "x=837493821\n",
    "print(\"{:,}\".format(x))"
   ]
  },
  {
   "cell_type": "markdown",
   "id": "0477f487",
   "metadata": {},
   "source": [
    "**16-Write a Python program to reverse a string using 2 ways"
   ]
  },
  {
   "cell_type": "code",
   "execution_count": 14,
   "id": "aa8beec8",
   "metadata": {},
   "outputs": [
    {
     "name": "stdout",
     "output_type": "stream",
     "text": [
      "iessM\n",
      "['i', 'e', 's', 's', 'M']\n"
     ]
    }
   ],
   "source": [
    "name=\"Messi\"\n",
    "print(name[-1]+name[1:-1]+name[0])\n",
    "l=list(name)\n",
    "temp=l[0]\n",
    "l[0]=l[-1]\n",
    "l[-1]=temp\n"
   ]
  },
  {
   "cell_type": "markdown",
   "id": "5afc3166",
   "metadata": {},
   "source": [
    " **17-Write a Python program to count repeated characters in a string (hint:use dictionary)"
   ]
  },
  {
   "cell_type": "code",
   "execution_count": 73,
   "id": "515a469c",
   "metadata": {},
   "outputs": [
    {
     "name": "stdout",
     "output_type": "stream",
     "text": [
      "r 2\n",
      "e 2\n",
      "m 4\n"
     ]
    }
   ],
   "source": [
    "import collections\n",
    "msg=\"Karrieemmmm\"\n",
    "d=collections.defaultdict(int)\n",
    "for i in msg:\n",
    "   d[i]+=1\n",
    "for i in sorted(d, key=d.get):\n",
    "  if d[i] > 1:\n",
    "      print('%s %d' % (i, d[i]))"
   ]
  },
  {
   "cell_type": "markdown",
   "id": "ae14e4e5",
   "metadata": {},
   "source": [
    "**18-Write a Python program to find the first non-repeating character in a given string"
   ]
  },
  {
   "cell_type": "code",
   "execution_count": 38,
   "id": "d73778e5",
   "metadata": {},
   "outputs": [
    {
     "name": "stdout",
     "output_type": "stream",
     "text": [
      "K 1\n",
      "a 1\n",
      "i 1\n"
     ]
    }
   ],
   "source": [
    "import collections\n",
    "msg=\"Karrieemmmm\"\n",
    "d=collections.defaultdict(int)\n",
    "for i in msg:\n",
    "   d[i]+=1\n",
    "for i in sorted(d, key=d.get, reverse=True):\n",
    "  if d[i] == 1:\n",
    "      print('%s %d' % (i, d[i]))"
   ]
  },
  {
   "cell_type": "markdown",
   "id": "3adf5669",
   "metadata": {},
   "source": [
    "**19-Write a Python program to remove spaces from a given string"
   ]
  },
  {
   "cell_type": "code",
   "execution_count": 44,
   "id": "b4f22602",
   "metadata": {},
   "outputs": [
    {
     "name": "stdout",
     "output_type": "stream",
     "text": [
      "xkarimRefaieEllithy\n"
     ]
    }
   ],
   "source": [
    "msg=\"x   karim   Refaie   Ellithy  \"\n",
    "msg.lstrip\n",
    "msg.rstrip\n",
    "x=msg.replace(\" \",\"\")\n",
    "print(x)"
   ]
  },
  {
   "cell_type": "markdown",
   "id": "734de60c",
   "metadata": {},
   "source": [
    "**20-Write a Python program to count the number of non-empty substrings of a given string"
   ]
  },
  {
   "cell_type": "code",
   "execution_count": 47,
   "id": "ef3f2274",
   "metadata": {},
   "outputs": [
    {
     "name": "stdout",
     "output_type": "stream",
     "text": [
      "11\n"
     ]
    }
   ],
   "source": [
    "count=0\n",
    "msg=\"x   karim   Refaie   Ellithy  \"\n",
    "for i in msg:\n",
    "    if i ==\" \":\n",
    "        count+=1\n",
    "print(count)"
   ]
  },
  {
   "cell_type": "markdown",
   "id": "509998e2",
   "metadata": {},
   "source": [
    "**21-write a Python program to swap first and last element of any list."
   ]
  },
  {
   "cell_type": "code",
   "execution_count": 93,
   "id": "68692d7f",
   "metadata": {},
   "outputs": [
    {
     "name": "stdout",
     "output_type": "stream",
     "text": [
      "[77, 13, 23, 12, 57, 43, 83]\n"
     ]
    }
   ],
   "source": [
    "msg=[83,13,23,12,57,43,77]\n",
    "msg[0],msg[-1]=msg[-1],msg[0]\n",
    "print(msg)"
   ]
  },
  {
   "cell_type": "markdown",
   "id": "959e0837",
   "metadata": {},
   "source": [
    "**22-Given a list in Python and provided the positions of the elements, write a program to swap the two elements in the list. (Input : List = [23, 65, 19, 90], pos1 = 1, pos2 = 3\n",
    "Output : [19, 65, 23, 90])"
   ]
  },
  {
   "cell_type": "code",
   "execution_count": 97,
   "id": "225d8c6d",
   "metadata": {},
   "outputs": [
    {
     "name": "stdout",
     "output_type": "stream",
     "text": [
      "enter pos1: 1\n",
      "enter pos2: 3\n",
      "[19, 65, 23, 90]\n"
     ]
    }
   ],
   "source": [
    "msg= [23, 65, 19, 90]\n",
    "pos1=int(input(\"enter pos1: \"))\n",
    "pos2=int(input(\"enter pos2: \"))\n",
    "msg[pos1-1],msg[pos2-1]=msg[pos2-1],msg[pos1-1]\n",
    "print(msg)"
   ]
  },
  {
   "cell_type": "markdown",
   "id": "66fc6682",
   "metadata": {},
   "source": [
    "**23- search for the all ways to know the length of the list"
   ]
  },
  {
   "cell_type": "code",
   "execution_count": 99,
   "id": "e3f1f638",
   "metadata": {},
   "outputs": [
    {
     "name": "stdout",
     "output_type": "stream",
     "text": [
      "4\n",
      "4\n"
     ]
    }
   ],
   "source": [
    "cnt=0\n",
    "msg= [23, 65, 19, 90]\n",
    "for i in msg:\n",
    "    cnt+=1\n",
    "print(cnt)\n",
    "\n",
    "x=len(msg)\n",
    "print(x)"
   ]
  },
  {
   "cell_type": "markdown",
   "id": "b19e722e",
   "metadata": {},
   "source": [
    "***24-write a Python code to find the Maximum number of list of numbers."
   ]
  },
  {
   "cell_type": "code",
   "execution_count": 115,
   "id": "15f342de",
   "metadata": {},
   "outputs": [
    {
     "name": "stdout",
     "output_type": "stream",
     "text": [
      "9332\n"
     ]
    }
   ],
   "source": [
    "msg= [948, 65, 9332, 90]\n",
    "maxnum=(max(msg))\n",
    "print(maxnum)"
   ]
  },
  {
   "cell_type": "markdown",
   "id": "0f3520a1",
   "metadata": {},
   "source": [
    "**25-write a Python code to find the Minimum number of list of numbers."
   ]
  },
  {
   "cell_type": "code",
   "execution_count": 116,
   "id": "21f8cbd6",
   "metadata": {},
   "outputs": [
    {
     "name": "stdout",
     "output_type": "stream",
     "text": [
      "23\n"
     ]
    }
   ],
   "source": [
    "msg= [23, 65, 9332, 90]\n",
    "minnum=min(msg)\n",
    "print(minnum)"
   ]
  },
  {
   "cell_type": "markdown",
   "id": "96822d96",
   "metadata": {},
   "source": [
    "**26-search for if an elem is existing in list"
   ]
  },
  {
   "cell_type": "code",
   "execution_count": 123,
   "id": "51ca5c9a",
   "metadata": {},
   "outputs": [
    {
     "name": "stdout",
     "output_type": "stream",
     "text": [
      "Yes it exists\n"
     ]
    }
   ],
   "source": [
    "x=12\n",
    "msg= [23, 65, 9332, 90,87,12,9]\n",
    "if(x in msg):\n",
    "    print(\"Yes it exists\")\n",
    "else:\n",
    "    print(\"No it doesnt exist\")"
   ]
  },
  {
   "cell_type": "markdown",
   "id": "d9557da7",
   "metadata": {},
   "source": [
    "**27- clear python list using different ways"
   ]
  },
  {
   "cell_type": "code",
   "execution_count": 131,
   "id": "b69858a3",
   "metadata": {},
   "outputs": [
    {
     "name": "stdout",
     "output_type": "stream",
     "text": [
      "[]\n"
     ]
    }
   ],
   "source": [
    "msg= [23, 65, 9332, 90,87,12,9]\n",
    "#msg.clear() -> 1st way\n",
    "for i in range(len(msg)):\n",
    "    msg.pop()\n",
    "print(msg)\n"
   ]
  },
  {
   "cell_type": "markdown",
   "id": "52160e88",
   "metadata": {},
   "source": [
    "**28-remove duplicated elements from a list"
   ]
  },
  {
   "cell_type": "code",
   "execution_count": 134,
   "id": "5e362228",
   "metadata": {},
   "outputs": [
    {
     "name": "stdout",
     "output_type": "stream",
     "text": [
      "[65, 9, 12, 9332, 87, 23, 90]\n"
     ]
    }
   ],
   "source": [
    "msg= [23, 65, 9332,12, 90,87,12,9,9]\n",
    "x=set(msg)\n",
    "print(list(x))"
   ]
  },
  {
   "cell_type": "markdown",
   "id": "282337f7",
   "metadata": {},
   "source": [
    "**29-Given list values and keys list, convert these values to key value pairs in form of list of dictionaries. (Input : test_list = [“Gfg”, 3, “is”, 8], key_list = [“name”, “id”]\n",
    "Output : [{‘name’: ‘Gfg’, ‘id’: 3}, {‘name’: ‘is’, ‘id’: 8}])"
   ]
  },
  {
   "cell_type": "code",
   "execution_count": 60,
   "id": "4d4e2d28",
   "metadata": {},
   "outputs": [
    {
     "name": "stdout",
     "output_type": "stream",
     "text": [
      "[{'Name': 'gtg', 'ID': 3}, {'Name': 'karim', 'ID': 99}]\n"
     ]
    }
   ],
   "source": [
    "l=['gtg',3,'karim',99]\n",
    "dic=[\"Name\",\"ID\"]\n",
    "result=[]\n",
    "for i in range(0,len(l),2):\n",
    "    result.append({dic[0]:l[i],dic[1]:l[i+1]})\n",
    "    \n",
    "print(result)"
   ]
  },
  {
   "cell_type": "markdown",
   "id": "c26b6e9f",
   "metadata": {},
   "source": [
    "**30-write a python program to count unique values inside a list using different ways"
   ]
  },
  {
   "cell_type": "code",
   "execution_count": 61,
   "id": "72132667",
   "metadata": {},
   "outputs": [
    {
     "data": {
      "text/plain": [
       "Counter({1: 1,\n",
       "         2: 3,\n",
       "         3: 1,\n",
       "         5: 1,\n",
       "         6: 1,\n",
       "         7: 2,\n",
       "         8: 6,\n",
       "         0: 1,\n",
       "         99: 1,\n",
       "         9123: 1,\n",
       "         21: 1})"
      ]
     },
     "execution_count": 61,
     "metadata": {},
     "output_type": "execute_result"
    }
   ],
   "source": [
    " from collections import Counter \n",
    "l=[1,2,2,2,3,5,6,7,7,8,8,8,8,8,8,0,99,9123,21]\n",
    "c=Counter(l)\n",
    "c"
   ]
  },
  {
   "cell_type": "markdown",
   "id": "fed6677c",
   "metadata": {},
   "source": [
    "**31-write a python program Extract all elements with Frequency greater than K (Input : test_list = [4, 6, 4, 3, 3, 4, 3, 4, 3, 8], K = 3 \n",
    "Output : [4, 3] )"
   ]
  },
  {
   "cell_type": "code",
   "execution_count": 18,
   "id": "d81f3f9d",
   "metadata": {},
   "outputs": [
    {
     "name": "stdout",
     "output_type": "stream",
     "text": [
      "[4, 3]\n"
     ]
    }
   ],
   "source": [
    "from collections import Counter \n",
    "test_list=[4, 6, 4, 3, 3, 4, 3, 4, 3, 8]\n",
    "res=[]\n",
    "c=Counter(test_list)\n",
    "for i in c:\n",
    "    if(c[i]>3):\n",
    "        res.append(i)\n",
    "print(res)"
   ]
  },
  {
   "cell_type": "markdown",
   "id": "caca5224",
   "metadata": {},
   "source": [
    "**32-write a python program to find the Strongest Neighbour (Input: 1 2 2 3 4 5\n",
    "Output: 2 2 3 4 5)"
   ]
  },
  {
   "cell_type": "code",
   "execution_count": 22,
   "id": "39fbd9b2",
   "metadata": {},
   "outputs": [
    {
     "data": {
      "text/plain": [
       "[2, 2, 3, 4, 5]"
      ]
     },
     "execution_count": 22,
     "metadata": {},
     "output_type": "execute_result"
    }
   ],
   "source": [
    "list=[1,2,2,3,4,5]\n",
    "res=[]\n",
    "for i in range(1,len(list)):\n",
    "    res.append(max(list[i],list[i-1]))\n",
    "    cnt+=1\n",
    "res\n",
    "        "
   ]
  },
  {
   "cell_type": "markdown",
   "id": "a9fa8baf",
   "metadata": {},
   "source": [
    "**33-write a Python Program to print all Possible Combinations from the three Digits (Input: [1, 2, 3]\n",
    "Output:\n",
    "1 2 3 ##\n",
    "1 3 2 ##\n",
    "2 1 3 ##\n",
    "2 3 1 ##\n",
    "3 1 2 ##\n",
    "3 2 1)"
   ]
  },
  {
   "cell_type": "code",
   "execution_count": 28,
   "id": "8c520a76",
   "metadata": {},
   "outputs": [
    {
     "name": "stdout",
     "output_type": "stream",
     "text": [
      "(1, 2, 3)\n",
      "(1, 3, 2)\n",
      "(2, 1, 3)\n",
      "(2, 3, 1)\n",
      "(3, 1, 2)\n",
      "(3, 2, 1)\n"
     ]
    }
   ],
   "source": [
    "from itertools import permutations\n",
    "l=[1,2,3]\n",
    "res=permutations(l,3)\n",
    "for i in res:\n",
    "    print(i)"
   ]
  },
  {
   "cell_type": "markdown",
   "id": "5288bb89",
   "metadata": {},
   "source": [
    "**34-write a Python program to find all the Combinations in the list with the given condition (Input: test_list = [1,2,3] \n",
    "Output: \n",
    " [1], [1, 2], [1, 2, 3], [1, 3]\n",
    " [2], [2, 3], [3])"
   ]
  },
  {
   "cell_type": "code",
   "execution_count": 15,
   "id": "59b89646",
   "metadata": {},
   "outputs": [
    {
     "name": "stdout",
     "output_type": "stream",
     "text": [
      "(1, 2)\n",
      "(1, 3)\n",
      "(2, 3)\n"
     ]
    }
   ],
   "source": [
    "from itertools import combinations\n",
    "test_list = [1,2,3] \n",
    "temp = combinations(test_list, 2)\n",
    "for i in temp:\n",
    "    print(i)"
   ]
  },
  {
   "cell_type": "markdown",
   "id": "39973705",
   "metadata": {},
   "source": [
    "**35-write a Python program to get all unique combinations of two Lists (List_1 = [\"a\",\"b\"]\n",
    "List_2 = [1,2]\n",
    "Unique_combination = [[('a',1),('b',2)],[('a',2),('b',1)]] )"
   ]
  },
  {
   "cell_type": "code",
   "execution_count": 21,
   "id": "8c4ba22b",
   "metadata": {},
   "outputs": [
    {
     "name": "stdout",
     "output_type": "stream",
     "text": [
      "[[('a', 1), ('b', 2)], [('b', 1), ('a', 2)]]\n"
     ]
    }
   ],
   "source": [
    "import itertools\n",
    "from itertools import product\n",
    "List_1 = [\"a\",\"b\"] \n",
    "List_2 = [1,2]\n",
    "unique_combinations = []\n",
    "permut = itertools.permutations(List_1, len(List_2))\n",
    "for i in permut:\n",
    "    zipped = zip(i, List_2)\n",
    "    unique_combinations.append(list(zipped))\n",
    "print(unique_combinations)"
   ]
  },
  {
   "cell_type": "markdown",
   "id": "25199af5",
   "metadata": {},
   "source": [
    "**36-Remove all the occurrences of an element from a list in Python (Input : 1 1 2 3 4 5 1 2 1 \n",
    "\n",
    "**Output : 2 3 4 5 2)"
   ]
  },
  {
   "cell_type": "code",
   "execution_count": 158,
   "id": "6dc4c2ba",
   "metadata": {},
   "outputs": [
    {
     "name": "stdout",
     "output_type": "stream",
     "text": [
      "[2, 3, 4, 5, 2]\n"
     ]
    }
   ],
   "source": [
    "l=[1 ,1 ,2 ,3 ,4 ,5 ,1 ,2 ,1]\n",
    "x=1\n",
    "res=[]\n",
    "for i in range(0,len(l)):\n",
    "    if(l[i]!=1):\n",
    "        res.append(l[i])\n",
    "print(res)\n",
    "        "
   ]
  },
  {
   "cell_type": "markdown",
   "id": "bf1a3c93",
   "metadata": {},
   "source": [
    "**37-write a python program to Replace index elements with elements in Other List (The original list 1 is : [‘Gfg’, ‘is’, ‘best’] The original list 2 is : [0, 1, 2, 1, 0, 0, 0, 2, 1, 1, 2, 0] The lists after index elements replacements is : [‘Gfg’, ‘is’, ‘best’, ‘is’, ‘Gfg’, ‘Gfg’, ‘Gfg’, ‘best’, ‘is’, ‘is’, ‘best’, ‘Gfg’])"
   ]
  },
  {
   "cell_type": "code",
   "execution_count": 162,
   "id": "fdd66a71",
   "metadata": {},
   "outputs": [
    {
     "data": {
      "text/plain": [
       "['Gfg',\n",
       " 'is',\n",
       " 'best',\n",
       " 'is',\n",
       " 'Gfg',\n",
       " 'Gfg',\n",
       " 'Gfg',\n",
       " 'best',\n",
       " 'is',\n",
       " 'is',\n",
       " 'best',\n",
       " 'Gfg']"
      ]
     },
     "execution_count": 162,
     "metadata": {},
     "output_type": "execute_result"
    }
   ],
   "source": [
    "l1= ['Gfg', 'is', 'best'] \n",
    "l2= [0, 1, 2, 1, 0, 0, 0, 2, 1, 1, 2, 0] \n",
    "res=[]\n",
    "for i in range(0,len(l2)):\n",
    "    if(l2[i]==0):\n",
    "        x=0\n",
    "        res.append(l1[x])\n",
    "    elif(l2[i]==1):\n",
    "        x=1\n",
    "        res.append(l1[x])\n",
    "    else:\n",
    "        x=2\n",
    "        res.append(l1[x])\n",
    "res"
   ]
  },
  {
   "cell_type": "markdown",
   "id": "af0f56e8",
   "metadata": {},
   "source": [
    "**38- write python program to Retain records with N occurrences of K(Input : test_list = [(4, 5, 5, 4), (5, 4, 3)], K = 5, N = 2 \n",
    "Output : [(4, 5, 5, 4)]\n",
    "Input : test_list = [(4, 5, 5, 4), (5, 4, 3)], K = 5, N = 3 \n",
    "Output : [] )"
   ]
  },
  {
   "cell_type": "code",
   "execution_count": 12,
   "id": "67b06671",
   "metadata": {},
   "outputs": [
    {
     "name": "stdout",
     "output_type": "stream",
     "text": [
      "3\n",
      "5\n",
      "[]\n"
     ]
    }
   ],
   "source": [
    "test_list=[(4, 5, 5, 4), (5, 4, 3)]\n",
    "N=int(input())\n",
    "K=int(input())\n",
    "i=0\n",
    "j=0\n",
    "cnt=0\n",
    "output=0\n",
    "while(i<2):\n",
    "    while(j<len(test_list[i])):\n",
    "        if(test_list[i][j]==K):\n",
    "            cnt+=1\n",
    "            if(cnt==N):\n",
    "                print(test_list[i])\n",
    "        j+=1\n",
    "    i+=1\n",
    "if(cnt!=N):\n",
    "    print([])\n",
    "            "
   ]
  },
  {
   "cell_type": "markdown",
   "id": "de76f183",
   "metadata": {},
   "source": [
    "**39-write a Python Program to Sort the list according to the column using lambda\n",
    "array = [[1, 3, 3], [2, 1, 2], [3, 2, 1]]\n",
    "Output :\n",
    "Sorted array specific to column 0, [[1, 3, 3], [2, 1, 2], [3, 2, 1]]\n",
    "Sorted array specific to column 1, [[2, 1, 2], [3, 2, 1], [1, 3, 3]]\n",
    "Sorted array specific to column 2, [[3, 2, 1], [2, 1, 2], [1, 3, 3]]"
   ]
  },
  {
   "cell_type": "code",
   "execution_count": 7,
   "id": "dc883308",
   "metadata": {},
   "outputs": [
    {
     "name": "stdout",
     "output_type": "stream",
     "text": [
      "Sorted array  0: [[1, 3, 3], [2, 1, 2], [3, 2, 1]]\n",
      "Sorted array  1: [[2, 1, 2], [3, 2, 1], [1, 3, 3]]\n",
      "Sorted array  2: [[3, 2, 1], [2, 1, 2], [1, 3, 3]]\n"
     ]
    }
   ],
   "source": [
    "array = [[1, 3, 3], [2, 1, 2], [3, 2, 1]] \n",
    "for i in range(0,3):\n",
    "    sortArrays = sorted(array, key = lambda x:x[i])\n",
    "    print(\"Sorted array  {}: {}\".format(i, sortArrays))"
   ]
  },
  {
   "cell_type": "markdown",
   "id": "b6003a48",
   "metadata": {},
   "source": [
    "**40- write a program to Sort Python Dictionaries by Key or Value\n",
    "Input:\n",
    "{'ravi': 10, 'rajnish': 9, 'sanjeev': 15, 'yash': 2, 'suraj': 32}\n",
    "Output: \n",
    "{'rajnish': 9, 'ravi': 10, 'sanjeev': 15, 'suraj': 32, 'yash': 2}"
   ]
  },
  {
   "cell_type": "code",
   "execution_count": 2,
   "id": "a96db4a0",
   "metadata": {},
   "outputs": [
    {
     "name": "stdout",
     "output_type": "stream",
     "text": [
      "OrderedDict([('rajnish', 9), ('ravi', 10), ('sanjeev', 15), ('suraj', 32), ('yash', 2)])\n"
     ]
    }
   ],
   "source": [
    "from collections import OrderedDict\n",
    "dic={'ravi': 10, 'rajnish': 9, 'sanjeev': 15, 'yash': 2, 'suraj': 32} \n",
    "res=OrderedDict(sorted(dic.items()))\n",
    "print(res)"
   ]
  },
  {
   "cell_type": "markdown",
   "id": "ec63c23a",
   "metadata": {},
   "source": [
    "**41-write python program to Remove keys with Values Greater than K ( Including mixed values )\n",
    "nput : test_dict = {‘Gfg’ : 3, ‘is’ : 7, ‘best’ : 10, ‘for’ : 6, ‘geeks’ : ‘CS’},\n",
    "K = 7 \n",
    "Output : {‘Gfg’ : 3, ‘for’ : 6, ‘geeks’ : ‘CS’}"
   ]
  },
  {
   "cell_type": "code",
   "execution_count": 152,
   "id": "e39c3a40",
   "metadata": {},
   "outputs": [
    {
     "name": "stdout",
     "output_type": "stream",
     "text": [
      "{'Gfg': 3, 'for': 6, 'geeks': 'CS'}\n"
     ]
    }
   ],
   "source": [
    "dic={'Gfg' : 3, 'is': 7, 'best' : 10, 'for' : 6, 'geeks' : 'CS'}\n",
    "K=7\n",
    "new_dic={}\n",
    "for i in dic:\n",
    "    if(type(dic[i])!=int or dic[i]<K):\n",
    "        new_dic[i]=dic[i]\n",
    "print(new_dic)\n",
    "        "
   ]
  },
  {
   "cell_type": "markdown",
   "id": "f143f0fe",
   "metadata": {},
   "source": [
    "**42-Write a Python program to concatenate the following dictionaries to create a new one\n",
    "\n",
    "Sample Dictionary :\n",
    "dic1={1:10, 2:20}\n",
    "dic2={3:30, 4:40}\n",
    "dic3={5:50,6:60}\n",
    "Expected Result : {1: 10, 2: 20, 3: 30, 4: 40, 5: 50, 6: 60}"
   ]
  },
  {
   "cell_type": "code",
   "execution_count": 131,
   "id": "74ffdfea",
   "metadata": {},
   "outputs": [
    {
     "name": "stdout",
     "output_type": "stream",
     "text": [
      "{1: 10, 2: 20, 3: 30, 4: 40, 5: 50, 6: 60}\n"
     ]
    }
   ],
   "source": [
    "dic1={1:10, 2:20} \n",
    "dic2={3:30, 4:40} \n",
    "dic3={5:50,6:60}\n",
    "dic={}\n",
    "for i in dic1,dic2,dic3:\n",
    "    dic.update(dic1)\n",
    "    dic.update(dic2)\n",
    "    dic.update(dic3)\n",
    "print(dic)"
   ]
  },
  {
   "cell_type": "markdown",
   "id": "fb04c93c",
   "metadata": {},
   "source": [
    "**43-Write a Python program to iterate over dictionaries using for loops"
   ]
  },
  {
   "cell_type": "code",
   "execution_count": 124,
   "id": "6aebc470",
   "metadata": {},
   "outputs": [
    {
     "name": "stdout",
     "output_type": "stream",
     "text": [
      "10\n",
      "20\n",
      "50\n",
      "5\n",
      "x\n",
      "y\n",
      "z\n",
      "v\n"
     ]
    }
   ],
   "source": [
    "d={'x':10,'y':20,'z':50,'v':5}\n",
    "\n",
    "for i in d.values():\n",
    "    print(i)\n",
    "for i in d.keys():\n",
    "    print(i)"
   ]
  },
  {
   "cell_type": "markdown",
   "id": "5f491a9d",
   "metadata": {},
   "source": [
    "**44- Write a Python script to merge two Python dictionaries"
   ]
  },
  {
   "cell_type": "code",
   "execution_count": 122,
   "id": "b8a14028",
   "metadata": {},
   "outputs": [
    {
     "name": "stdout",
     "output_type": "stream",
     "text": [
      "{'v1': {'x': 10}, 'v2': {'y': 30}}\n"
     ]
    }
   ],
   "source": [
    "d1={'x':10}\n",
    "d2={'y':30}\n",
    "d3={'v1':d1,'v2':d2}\n",
    "print(d3)"
   ]
  },
  {
   "cell_type": "markdown",
   "id": "216fc72d",
   "metadata": {},
   "source": [
    "**45-Write a Python program to get the maximum and minimum values of a dictionary values"
   ]
  },
  {
   "cell_type": "code",
   "execution_count": 121,
   "id": "d6883f5f",
   "metadata": {},
   "outputs": [
    {
     "name": "stdout",
     "output_type": "stream",
     "text": [
      "50\n",
      "5\n"
     ]
    }
   ],
   "source": [
    "d={'x':10,'y':20,'z':50,'v':5}\n",
    "x=[]\n",
    "for i in d.values():\n",
    "   x.append(i) \n",
    "print(max(x))\n",
    "print(min(x))"
   ]
  },
  {
   "cell_type": "markdown",
   "id": "b6a53011",
   "metadata": {},
   "source": [
    "**46- Write a Python program to drop empty items from a given dictionary.\n",
    "Original Dictionary:\n",
    "{'c1': 'Red', 'c2': 'Green', 'c3': None}\n",
    "New Dictionary after dropping empty items:\n",
    "{'c1': 'Red', 'c2': 'Green'}"
   ]
  },
  {
   "cell_type": "code",
   "execution_count": 116,
   "id": "b5c6fecf",
   "metadata": {},
   "outputs": [
    {
     "name": "stdout",
     "output_type": "stream",
     "text": [
      "{'c1': 'Red', 'c2': 'Green'}\n"
     ]
    }
   ],
   "source": [
    "d={'c1': 'Red', 'c2': 'Green', 'c3': None}\n",
    "for i in d:\n",
    "    if(d[i]==None):\n",
    "        d.pop(i)\n",
    "        break\n",
    "print(d)"
   ]
  },
  {
   "cell_type": "markdown",
   "id": "46d718c7",
   "metadata": {},
   "source": [
    "**47-Write a Python program to create a tuple of numbers and print one item"
   ]
  },
  {
   "cell_type": "code",
   "execution_count": 98,
   "id": "13216ff5",
   "metadata": {},
   "outputs": [
    {
     "name": "stdout",
     "output_type": "stream",
     "text": [
      "(1,)\n"
     ]
    }
   ],
   "source": [
    "x=(1,2,3,4,5)\n",
    "x=(1,)\n",
    "print(x)"
   ]
  },
  {
   "cell_type": "markdown",
   "id": "2be5b56b",
   "metadata": {},
   "source": [
    "**48-Write a Python program to unpack a tuple into several variables"
   ]
  },
  {
   "cell_type": "code",
   "execution_count": 97,
   "id": "595f44be",
   "metadata": {},
   "outputs": [
    {
     "name": "stdout",
     "output_type": "stream",
     "text": [
      "1\n",
      "2\n",
      "3\n"
     ]
    }
   ],
   "source": [
    "f=(1,2,3)\n",
    "x,y,z=f\n",
    "print(x)\n",
    "print(y)\n",
    "print(z)"
   ]
  },
  {
   "cell_type": "markdown",
   "id": "392388a7",
   "metadata": {},
   "source": [
    "**49-Write a Python program to add an item to a tuple"
   ]
  },
  {
   "cell_type": "code",
   "execution_count": 95,
   "id": "54cc092e",
   "metadata": {},
   "outputs": [
    {
     "name": "stdout",
     "output_type": "stream",
     "text": [
      "('k', 'a', 'r', 'i', 'm', 123)\n"
     ]
    }
   ],
   "source": [
    "x=('k','a','r','i','m')\n",
    "x=list(x)\n",
    "x.append(123)\n",
    "x=tuple(x)\n",
    "print(x)"
   ]
  },
  {
   "cell_type": "markdown",
   "id": "3e8fd124",
   "metadata": {},
   "source": [
    "**50-Write a Python program to convert a tuple to a string"
   ]
  },
  {
   "cell_type": "code",
   "execution_count": 94,
   "id": "92a71ddc",
   "metadata": {},
   "outputs": [
    {
     "name": "stdout",
     "output_type": "stream",
     "text": [
      "karim\n"
     ]
    }
   ],
   "source": [
    "x=('k','a','r','i','m')\n",
    "x=list(x)\n",
    "res=''.join(x)\n",
    "print(res)"
   ]
  },
  {
   "cell_type": "markdown",
   "id": "f4f64ef4",
   "metadata": {},
   "source": [
    "**51-Write a Python program to convert a list to a tuple"
   ]
  },
  {
   "cell_type": "code",
   "execution_count": 89,
   "id": "210d56d3",
   "metadata": {},
   "outputs": [
    {
     "name": "stdout",
     "output_type": "stream",
     "text": [
      "(10, 20, 30, 40)\n"
     ]
    }
   ],
   "source": [
    "x=[10,20,30,40]\n",
    "x=tuple(x)\n",
    "print(x)"
   ]
  },
  {
   "cell_type": "markdown",
   "id": "b1e00ef7",
   "metadata": {},
   "source": [
    "**52-Write a Python program to reverse a tuple"
   ]
  },
  {
   "cell_type": "code",
   "execution_count": 88,
   "id": "f45bfdc7",
   "metadata": {},
   "outputs": [
    {
     "name": "stdout",
     "output_type": "stream",
     "text": [
      "(100, 80, 70, 60, 50, 40, 30, 20, 10)\n"
     ]
    }
   ],
   "source": [
    "x=tuple([10,20,30,40,50,60,70,80,100])\n",
    "cnt=8\n",
    "y=[]\n",
    "while(cnt>=0):\n",
    "    y.append(x[cnt])\n",
    "    cnt-=1\n",
    "y=tuple(y)\n",
    "print(y)\n",
    "    \n",
    "    "
   ]
  },
  {
   "cell_type": "markdown",
   "id": "3cd347d1",
   "metadata": {},
   "source": [
    "**53-Write a Python program to replace the last value of tuples in a list.\n",
    "Sample list: [(10, 20, 40), (40, 50, 60), (70, 80, 90)]\n",
    "Expected Output: [(10, 20, 100), (40, 50, 100), (70, 80, 100)]"
   ]
  },
  {
   "cell_type": "code",
   "execution_count": 85,
   "id": "3c4a2a4c",
   "metadata": {},
   "outputs": [
    {
     "name": "stdout",
     "output_type": "stream",
     "text": [
      "[(10, 20, 100), (40, 50, 100), (70, 80, 100)]\n"
     ]
    }
   ],
   "source": [
    "l= [(10, 20, 40), (40, 50, 60), (70, 80, 90)] \n",
    "x=[]\n",
    "for i in l:\n",
    "    x.append(list(i))\n",
    "i=0\n",
    "while(i<3):\n",
    "    j=0\n",
    "    while(j<3):\n",
    "        if(j==2):\n",
    "            x[i][j]=100\n",
    "        j+=1\n",
    "    i+=1\n",
    "res=[]\n",
    "for i in x:\n",
    "    res.append(tuple(i))\n",
    "\n",
    "\n",
    "    \n",
    "    \n",
    "    \n",
    "print(res)\n"
   ]
  },
  {
   "cell_type": "markdown",
   "id": "76bb7b39",
   "metadata": {},
   "source": [
    "**54-Write a Python program to convert a given string list to a tuple\n",
    "Original string: python 3.0\n",
    "<class 'str'>\n",
    "Convert the said string to a tuple:\n",
    "('p', 'y', 't', 'h', 'o', 'n', '3', '.', '0')"
   ]
  },
  {
   "cell_type": "code",
   "execution_count": 84,
   "id": "51951937",
   "metadata": {},
   "outputs": [
    {
     "name": "stdout",
     "output_type": "stream",
     "text": [
      "('p', 'y', 't', 'h', 'o', 'n', '3', '.', '0')\n"
     ]
    }
   ],
   "source": [
    "text=\"python3.0\"\n",
    "text=tuple(text)\n",
    "print(text)"
   ]
  },
  {
   "cell_type": "markdown",
   "id": "5a1d5d97",
   "metadata": {},
   "source": [
    "**55-Write a Python program to calculate the average value of the numbers in a given tuple of tuples"
   ]
  },
  {
   "cell_type": "code",
   "execution_count": 31,
   "id": "834e7992",
   "metadata": {},
   "outputs": [
    {
     "name": "stdout",
     "output_type": "stream",
     "text": [
      "41.111111111111114\n"
     ]
    }
   ],
   "source": [
    "x=tuple([10,20,30,40,50,60,70,80,10])\n",
    "sum=0\n",
    "cnt=0\n",
    "for i in x:\n",
    "    sum+=i\n",
    "    cnt+=1\n",
    "avg=sum/cnt\n",
    "print(avg)"
   ]
  },
  {
   "cell_type": "markdown",
   "id": "51edab9c",
   "metadata": {},
   "source": [
    "**56-Write a Python program to add member(s) to a set."
   ]
  },
  {
   "cell_type": "code",
   "execution_count": 11,
   "id": "2b65df79",
   "metadata": {},
   "outputs": [
    {
     "data": {
      "text/plain": [
       "{1, 2, 3, 10, 11, 12, 99}"
      ]
     },
     "execution_count": 11,
     "metadata": {},
     "output_type": "execute_result"
    }
   ],
   "source": [
    "x=set([1,2,3,10,11,12])\n",
    "x.add(99)"
   ]
  },
  {
   "cell_type": "markdown",
   "id": "965590cc",
   "metadata": {},
   "source": [
    "**57-Write a Python program to remove an item from a set if it is present in the set."
   ]
  },
  {
   "cell_type": "code",
   "execution_count": 10,
   "id": "866bab28",
   "metadata": {},
   "outputs": [
    {
     "name": "stdout",
     "output_type": "stream",
     "text": [
      "10\n",
      "{1, 2, 3, 11, 12}\n"
     ]
    }
   ],
   "source": [
    "x=set([1,2,3,10,11,12])\n",
    "value=int(input())\n",
    "if(value in x):\n",
    "    x.remove(value)\n",
    "print(x)"
   ]
  },
  {
   "cell_type": "markdown",
   "id": "2b7cfed1",
   "metadata": {},
   "source": [
    "**58-Write a Python program to create an intersection,union,difference and symmetric difference of sets"
   ]
  },
  {
   "cell_type": "code",
   "execution_count": 6,
   "id": "7f94b7fe",
   "metadata": {},
   "outputs": [
    {
     "name": "stdout",
     "output_type": "stream",
     "text": [
      "{1, 2, 3}\n",
      "{1, 2, 3, 4, 5, 9, 10, 11, 12}\n",
      "{10, 11, 12}\n",
      "{4, 5, 9, 10, 11, 12}\n"
     ]
    }
   ],
   "source": [
    "#Intersection\n",
    "y=set([9 ,1 ,2 ,3 ,4 ,5 ,1 ,2 ,1])\n",
    "x=set([1,2,3,10,11,12])\n",
    "res1=x.intersection(y)\n",
    "print(res1)\n",
    "\n",
    "#Union\n",
    "res2=x.union(y)\n",
    "print(res2)\n",
    "\n",
    "#Difference\n",
    "res3=x.difference(y)\n",
    "print(res3)\n",
    "\n",
    "#Symmetric Difference\n",
    "res4=x.symmetric_difference(y)\n",
    "print(res4)"
   ]
  },
  {
   "cell_type": "markdown",
   "id": "b94931e2",
   "metadata": {},
   "source": [
    "**59-Write a Python program to find the maximum and minimum values in a set"
   ]
  },
  {
   "cell_type": "code",
   "execution_count": 178,
   "id": "203f9600",
   "metadata": {},
   "outputs": [
    {
     "data": {
      "text/plain": [
       "10"
      ]
     },
     "execution_count": 178,
     "metadata": {},
     "output_type": "execute_result"
    }
   ],
   "source": [
    "y=set([9 ,1 ,2 ,3 ,4 ,5 ,1 ,2 ,1])\n",
    "y.add(10)\n",
    "y=list(y)\n",
    "maxnum=y[len(y)-1]\n",
    "minnum=y[0]"
   ]
  },
  {
   "cell_type": "markdown",
   "id": "255fd554",
   "metadata": {},
   "source": [
    "**60- Write a Python program that finds all pairs of elements in a list whose sum is equal to a given value."
   ]
  },
  {
   "cell_type": "code",
   "execution_count": 27,
   "id": "c2d94e1f",
   "metadata": {},
   "outputs": [
    {
     "name": "stdout",
     "output_type": "stream",
     "text": [
      "[(1, 7), (2, 6), (3, 5)]\n"
     ]
    }
   ],
   "source": [
    "l=[1,2 , 3, 4, 5,6,7,8,9,10]\n",
    "res=[]\n",
    "sum_res=8\n",
    "for i in range(len(l)):\n",
    "    for j in range(i+1,len(l)):\n",
    "        if(l[i]+l[j]==sum_res):\n",
    "            res.append((l[i],l[j]))\n",
    "print(res)\n",
    "            "
   ]
  },
  {
   "cell_type": "code",
   "execution_count": null,
   "id": "a5a1dfd9",
   "metadata": {},
   "outputs": [],
   "source": []
  }
 ],
 "metadata": {
  "kernelspec": {
   "display_name": "Python 3 (ipykernel)",
   "language": "python",
   "name": "python3"
  },
  "language_info": {
   "codemirror_mode": {
    "name": "ipython",
    "version": 3
   },
   "file_extension": ".py",
   "mimetype": "text/x-python",
   "name": "python",
   "nbconvert_exporter": "python",
   "pygments_lexer": "ipython3",
   "version": "3.9.12"
  }
 },
 "nbformat": 4,
 "nbformat_minor": 5
}
